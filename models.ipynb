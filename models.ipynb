{
 "cells": [
  {
   "cell_type": "markdown",
   "id": "1361782a-0986-4a39-9fbb-a686f1004195",
   "metadata": {},
   "source": [
    "## Modelos de Aprendizaje Automático"
   ]
  },
  {
   "cell_type": "markdown",
   "id": "0af60da3-7c78-4643-aa83-771446471bf0",
   "metadata": {},
   "source": [
    "Cargamos las librerías necesarias y el dataframe previamente construido. Definimos también dos funciones auxiliares que usaremos."
   ]
  },
  {
   "cell_type": "code",
   "execution_count": 55,
   "id": "7d3955ea-61d9-4c3c-a79a-7044e763ba27",
   "metadata": {},
   "outputs": [],
   "source": [
    "import pandas as pd\n",
    "from sklearn.model_selection import train_test_split,GridSearchCV\n",
    "from sklearn.metrics import confusion_matrix, ConfusionMatrixDisplay, make_scorer, recall_score,get_scorer\n",
    "from sklearn.ensemble import RandomForestClassifier\n",
    "import seaborn as sns\n",
    "import matplotlib.pyplot as plt\n",
    "from sklearn import tree\n",
    "import xgboost as xgb\n",
    "\n",
    "def calcula_metricas(y_true, y_pred):\n",
    "    tn,fp,fn,tp = confusion_matrix(y_true, y_pred).ravel()\n",
    "    sensitividad = tp/(fn+tp)\n",
    "    accuracy = (tn+tp)/(tn+fp+fn+tp)\n",
    "    especificidad = tn / (tn + fp)\n",
    "    precision = tp / (tp + fp) if (tp + fp) != 0 else 0\n",
    "    f1 = 2 * (precision * sensitividad) / (precision + sensitividad) if (precision + sensitividad) != 0 else 0\n",
    "    print(\"Accuracy:\", accuracy)\n",
    "    print(\"Sensitividad:\", sensitividad)\n",
    "    print(\"Especificidad:\", especificidad)\n",
    "    print(\"F1 Score:\", f1)\n",
    "\n",
    "def ajusta(param_grid,classifier,name_classifier,scorer,X_train,y_train,X_test,y_test,scoring,cv = 5):\n",
    "    grid = GridSearchCV(estimator=classifier, param_grid=param_grid, scoring=scorer, cv=cv)\n",
    "    grid.fit(X_train, y_train)\n",
    "    val_score = grid.best_score_\n",
    "    best_model = grid.best_estimator_\n",
    "    \n",
    "    test_scorer = get_scorer(scorer)\n",
    "    test_score = test_scorer(best_model, X_test, y_test)\n",
    "\n",
    "    if name_classifier not in scoring or test_score > scoring[name_classifier]:\n",
    "        scoring[name_classifier] = test_score\n",
    "\n",
    "    print(f\"[{name_classifier}] Validación cruzada (media): {val_score:.4f}\")\n",
    "    print(f\"[{name_classifier}] Resultado en test: {test_score:.4f}\")\n",
    "    print(grid.best_params_)\n",
    "    \n",
    "    return best_model"
   ]
  },
  {
   "cell_type": "code",
   "execution_count": 57,
   "id": "b08f23e2-ce49-4d97-bd61-8e9da79d595c",
   "metadata": {},
   "outputs": [],
   "source": [
    "df = pd.read_csv('data/out.csv')"
   ]
  },
  {
   "cell_type": "code",
   "execution_count": 59,
   "id": "ab34d044-69bd-4a1d-bfb1-a77cdab2b59b",
   "metadata": {},
   "outputs": [
    {
     "data": {
      "text/html": [
       "<div>\n",
       "<style scoped>\n",
       "    .dataframe tbody tr th:only-of-type {\n",
       "        vertical-align: middle;\n",
       "    }\n",
       "\n",
       "    .dataframe tbody tr th {\n",
       "        vertical-align: top;\n",
       "    }\n",
       "\n",
       "    .dataframe thead th {\n",
       "        text-align: right;\n",
       "    }\n",
       "</style>\n",
       "<table border=\"1\" class=\"dataframe\">\n",
       "  <thead>\n",
       "    <tr style=\"text-align: right;\">\n",
       "      <th></th>\n",
       "      <th>popularity_level</th>\n",
       "      <th>degree</th>\n",
       "      <th>betweennes</th>\n",
       "      <th>closeness</th>\n",
       "      <th>eigenvector</th>\n",
       "      <th>clustering</th>\n",
       "    </tr>\n",
       "  </thead>\n",
       "  <tbody>\n",
       "    <tr>\n",
       "      <th>0</th>\n",
       "      <td>1</td>\n",
       "      <td>0.002809</td>\n",
       "      <td>0.000086</td>\n",
       "      <td>0.318572</td>\n",
       "      <td>0.005886</td>\n",
       "      <td>0.111111</td>\n",
       "    </tr>\n",
       "    <tr>\n",
       "      <th>1</th>\n",
       "      <td>1</td>\n",
       "      <td>0.012638</td>\n",
       "      <td>0.002468</td>\n",
       "      <td>0.370180</td>\n",
       "      <td>0.043645</td>\n",
       "      <td>0.122222</td>\n",
       "    </tr>\n",
       "    <tr>\n",
       "      <th>2</th>\n",
       "      <td>1</td>\n",
       "      <td>0.019348</td>\n",
       "      <td>0.016555</td>\n",
       "      <td>0.339355</td>\n",
       "      <td>0.027648</td>\n",
       "      <td>0.063729</td>\n",
       "    </tr>\n",
       "    <tr>\n",
       "      <th>3</th>\n",
       "      <td>1</td>\n",
       "      <td>0.005149</td>\n",
       "      <td>0.001371</td>\n",
       "      <td>0.304206</td>\n",
       "      <td>0.011840</td>\n",
       "      <td>0.193182</td>\n",
       "    </tr>\n",
       "    <tr>\n",
       "      <th>4</th>\n",
       "      <td>0</td>\n",
       "      <td>0.001872</td>\n",
       "      <td>0.000031</td>\n",
       "      <td>0.310888</td>\n",
       "      <td>0.004246</td>\n",
       "      <td>0.181818</td>\n",
       "    </tr>\n",
       "  </tbody>\n",
       "</table>\n",
       "</div>"
      ],
      "text/plain": [
       "   popularity_level    degree  betweennes  closeness  eigenvector  clustering\n",
       "0                 1  0.002809    0.000086   0.318572     0.005886    0.111111\n",
       "1                 1  0.012638    0.002468   0.370180     0.043645    0.122222\n",
       "2                 1  0.019348    0.016555   0.339355     0.027648    0.063729\n",
       "3                 1  0.005149    0.001371   0.304206     0.011840    0.193182\n",
       "4                 0  0.001872    0.000031   0.310888     0.004246    0.181818"
      ]
     },
     "execution_count": 59,
     "metadata": {},
     "output_type": "execute_result"
    }
   ],
   "source": [
    "df.head()"
   ]
  },
  {
   "cell_type": "code",
   "execution_count": 61,
   "id": "f01188f8-5933-4c39-aaf6-f94b56482820",
   "metadata": {},
   "outputs": [],
   "source": [
    "X = df.drop(columns='popularity_level')\n",
    "y = df['popularity_level']"
   ]
  },
  {
   "cell_type": "code",
   "execution_count": 63,
   "id": "d7eea62a-5bb4-47b2-8430-398e5265d330",
   "metadata": {},
   "outputs": [
    {
     "name": "stdout",
     "output_type": "stream",
     "text": [
      "popularity_level\n",
      "0    3632\n",
      "1    2778\n",
      "Name: count, dtype: int64\n"
     ]
    },
    {
     "data": {
      "image/png": "[encoded data removed]",
      "text/plain": [
       "<Figure size 640x480 with 1 Axes>"
      ]
     },
     "metadata": {},
     "output_type": "display_data"
    }
   ],
   "source": [
    "print(y.value_counts())\n",
    "sns.countplot(x='popularity_level', data=df)\n",
    "plt.title(\"Distribución de Popularidad\")\n",
    "plt.show()"
   ]
  },
  {
   "cell_type": "markdown",
   "id": "c827567d-3a76-4969-a772-fe14c961f54c",
   "metadata": {},
   "source": [
    "Vemos que pese a la elección de los nodos para la creación del dataframe hay mayor presencia de artistas no populares. El objetivo de los modelos va a ser lograr predecir si un artista es popular, pues es lo menos común. Por ello, vamos a ver si debemos realizar ciertas técnicas para llevar a cabo una mejor predicción de la clase de interés.\n",
    "\n",
    "Procedamos a realizar un modelo simple de Árboles de Clasificación para ver como se ajusta al conjunto de datos."
   ]
  },
  {
   "cell_type": "code",
   "execution_count": 66,
   "id": "f71dee41-8479-4161-a8b5-a464ca3621cc",
   "metadata": {},
   "outputs": [
    {
     "data": {
      "text/plain": [
       "<sklearn.metrics._plot.confusion_matrix.ConfusionMatrixDisplay at 0x2c885f21130>"
      ]
     },
     "execution_count": 66,
     "metadata": {},
     "output_type": "execute_result"
    },
    {
     "data": {
      "image/png": "[encoded data removed]",
      "text/plain": [
       "<Figure size 640x480 with 2 Axes>"
      ]
     },
     "metadata": {},
     "output_type": "display_data"
    }
   ],
   "source": [
    "clf = RandomForestClassifier(random_state=42)\n",
    "clf.fit(X, y)\n",
    "y_pred = clf.predict(X)\n",
    "cm = confusion_matrix(y, y_pred)\n",
    "disp = ConfusionMatrixDisplay(confusion_matrix=cm, display_labels=clf.classes_)\n",
    "disp.plot(cmap='Blues')"
   ]
  },
  {
   "cell_type": "code",
   "execution_count": 67,
   "id": "824cb390-8c13-41c6-9f1d-4af6dc6a5816",
   "metadata": {},
   "outputs": [
    {
     "name": "stdout",
     "output_type": "stream",
     "text": [
      "Accuracy: 0.9277691107644306\n",
      "Sensitividad: 0.8455723542116631\n",
      "Especificidad: 0.9906387665198237\n",
      "F1 Score: 0.9102887037395854\n"
     ]
    }
   ],
   "source": [
    "calcula_metricas(y,y_pred)"
   ]
  },
  {
   "cell_type": "markdown",
   "id": "9b4dbc63-6f5a-4692-ba0f-952e52a24833",
   "metadata": {},
   "source": [
    "El ajuste sobre el propio conjunto de entrenamiento tiene mayores problemas para predecir la clase de interés. En lo que sigue, usaremos la sensitividad (recall) para elegir los modelos. "
   ]
  },
  {
   "cell_type": "code",
   "execution_count": 71,
   "id": "7e59f283-2b67-443a-a13f-303e0c4e33b7",
   "metadata": {},
   "outputs": [],
   "source": [
    "scorer = make_scorer(recall_score)\n",
    "scoring = {}"
   ]
  },
  {
   "cell_type": "markdown",
   "id": "10a49d83-b8a9-4f8f-82cc-69e0be2fdc66",
   "metadata": {},
   "source": [
    "Dividimos el dataframe en entrenamiento y test."
   ]
  },
  {
   "cell_type": "code",
   "execution_count": 74,
   "id": "f7d19e63-1e51-46bf-9dba-c3eceb38fca5",
   "metadata": {},
   "outputs": [],
   "source": [
    "X_train, X_test, y_train, y_test = train_test_split(X,y,test_size = 0.2, random_state = 0)"
   ]
  },
  {
   "cell_type": "markdown",
   "id": "d06c267e-72b3-45f6-944b-fbf992bb3e28",
   "metadata": {},
   "source": [
    "A continuación vamos a llevar a cabo modelos de predicción del nivel de popularidad. Para ellos, vamos a encontrar el mejor modelo para los posibles valores de los hiperparámetros que se le proporcionamos. "
   ]
  },
  {
   "cell_type": "markdown",
   "id": "3e33eb7a-2a7b-4f17-8da4-f6290ad923a9",
   "metadata": {},
   "source": [
    "#### Predicción mediante Árboles de Decisión"
   ]
  },
  {
   "cell_type": "code",
   "execution_count": 78,
   "id": "3d4b2417-425f-4032-80ad-fbbc36410769",
   "metadata": {},
   "outputs": [
    {
     "name": "stdout",
     "output_type": "stream",
     "text": [
      "[DTC] Validación cruzada (media): 0.5684\n",
      "[DTC] Resultado en test: 0.5282\n",
      "{'class_weight': 'balanced', 'criterion': 'entropy', 'max_depth': 3, 'min_samples_leaf': 1, 'min_samples_split': 5}\n"
     ]
    }
   ],
   "source": [
    "param_grid = {\n",
    "    'max_depth': [3, 5, 7, 10, 15],\n",
    "    'min_samples_split': [2, 5, 10],\n",
    "    'min_samples_leaf': [1, 2, 4],\n",
    "    'criterion': ['gini', 'entropy'],\n",
    "    'class_weight': ['balanced']\n",
    "}\n",
    "clf = ajusta(param_grid,tree.DecisionTreeClassifier(),'DTC',scorer,X_train, y_train,X_test, y_test,scoring,cv = 5)"
   ]
  },
  {
   "cell_type": "code",
   "execution_count": 79,
   "id": "785560b7-1d6d-4772-8f8b-345bfe378ed8",
   "metadata": {},
   "outputs": [
    {
     "name": "stdout",
     "output_type": "stream",
     "text": [
      "Accuracy: 0.6731669266770671\n",
      "Sensitividad: 0.5282331511839709\n",
      "Especificidad: 0.781718963165075\n",
      "F1 Score: 0.5805805805805807\n"
     ]
    }
   ],
   "source": [
    "calcula_metricas(y_test, clf.predict(X_test))"
   ]
  },
  {
   "cell_type": "code",
   "execution_count": 80,
   "id": "3b513138-8c2c-4216-bce5-deeb96a6bfd8",
   "metadata": {},
   "outputs": [
    {
     "data": {
      "text/plain": [
       "[Text(0.5, 0.875, 'x[0] <= 0.001\\nentropy = 1.0\\nsamples = 5128\\nvalue = [2564.0, 2564.0]'),\n",
       " Text(0.25, 0.625, 'x[0] <= 0.0\\nentropy = 0.956\\nsamples = 3566\\nvalue = [2150.081, 1305.581]'),\n",
       " Text(0.375, 0.75, 'True  '),\n",
       " Text(0.125, 0.375, 'x[4] <= 0.5\\nentropy = 0.899\\nsamples = 1977\\nvalue = [1291.287, 594.701]'),\n",
       " Text(0.0625, 0.125, 'entropy = 0.882\\nsamples = 1586\\nvalue = [1054.256, 453.215]'),\n",
       " Text(0.1875, 0.125, 'entropy = 0.954\\nsamples = 391\\nvalue = [237.031, 141.486]'),\n",
       " Text(0.375, 0.375, 'x[3] <= 0.005\\nentropy = 0.994\\nsamples = 1589\\nvalue = [858.794, 710.88]'),\n",
       " Text(0.3125, 0.125, 'entropy = 0.989\\nsamples = 1450\\nvalue = [800.421, 626.909]'),\n",
       " Text(0.4375, 0.125, 'entropy = 0.977\\nsamples = 139\\nvalue = [58.373, 83.971]'),\n",
       " Text(0.75, 0.625, 'x[0] <= 0.004\\nentropy = 0.807\\nsamples = 1562\\nvalue = [413.919, 1258.419]'),\n",
       " Text(0.625, 0.75, '  False'),\n",
       " Text(0.625, 0.375, 'x[1] <= 0.0\\nentropy = 0.911\\nsamples = 887\\nvalue = [303.364, 625.759]'),\n",
       " Text(0.5625, 0.125, 'entropy = 0.976\\nsamples = 336\\nvalue = [140.626, 203.602]'),\n",
       " Text(0.6875, 0.125, 'entropy = 0.853\\nsamples = 551\\nvalue = [162.737, 422.157]'),\n",
       " Text(0.875, 0.375, 'x[0] <= 0.065\\nentropy = 0.607\\nsamples = 675\\nvalue = [110.555, 632.66]'),\n",
       " Text(0.8125, 0.125, 'entropy = 0.599\\nsamples = 672\\nvalue = [107.902, 632.66]'),\n",
       " Text(0.9375, 0.125, 'entropy = 0.0\\nsamples = 3\\nvalue = [2.653, 0.0]')]"
      ]
     },
     "execution_count": 80,
     "metadata": {},
     "output_type": "execute_result"
    },
    {
     "data": {
      "image/png": "[encoded data removed]",
      "text/plain": [
       "<Figure size 1000x1000 with 1 Axes>"
      ]
     },
     "metadata": {},
     "output_type": "display_data"
    }
   ],
   "source": [
    "plt.figure(figsize= (10,10))\n",
    "tree.plot_tree(clf)"
   ]
  },
  {
   "cell_type": "markdown",
   "id": "2fa8bdea-8545-4450-86f3-85ba656bec44",
   "metadata": {},
   "source": [
    "Podríamos variar el umbral de probabilidad de clasificación de la clase positiva para obtener mejores resultados para la clase de interés, aunque sacrificando el accuracy."
   ]
  },
  {
   "cell_type": "code",
   "execution_count": 82,
   "id": "c64e4291-4550-4d7b-8a06-773bde00fc88",
   "metadata": {},
   "outputs": [
    {
     "name": "stdout",
     "output_type": "stream",
     "text": [
      "Accuracy: 0.6021840873634945\n",
      "Sensitividad: 0.7668488160291439\n",
      "Especificidad: 0.47885402455661663\n",
      "F1 Score: 0.6227810650887574\n"
     ]
    }
   ],
   "source": [
    "y_proba = clf.predict_proba(X_test)[:, 1] \n",
    "umbral = 0.4 \n",
    "y_pred_adjusted = (y_proba > umbral).astype(int)\n",
    "calcula_metricas(y_test, y_pred_adjusted)"
   ]
  },
  {
   "cell_type": "markdown",
   "id": "413146b5-209d-4cc6-be7f-9e1ef25d89b8",
   "metadata": {},
   "source": [
    "#### Predicción mediante Bosques Aleatorios"
   ]
  },
  {
   "cell_type": "code",
   "execution_count": 84,
   "id": "1815afb5-415b-43a2-b2c5-7d792ee761a7",
   "metadata": {},
   "outputs": [
    {
     "name": "stdout",
     "output_type": "stream",
     "text": [
      "[RFC] Validación cruzada (media): 0.5509\n",
      "[RFC] Resultado en test: 0.5501\n",
      "{'class_weight': 'balanced', 'max_depth': 5, 'min_samples_split': 5, 'n_estimators': 10}\n"
     ]
    }
   ],
   "source": [
    "param_grid = { 'n_estimators': [3, 5, 7, 10, 15],\n",
    "              'max_depth': [5,10,15,20],\n",
    "              'min_samples_split': [2, 5, 10],\n",
    "              'class_weight': ['balanced']\n",
    "             }\n",
    "rfc = ajusta(param_grid,RandomForestClassifier(),'RFC',scorer,X_train, y_train,X_test, y_test,scoring,cv = 5)"
   ]
  },
  {
   "cell_type": "code",
   "execution_count": 85,
   "id": "e997f021-54a9-4421-8af8-7e9f57e2c2ba",
   "metadata": {},
   "outputs": [
    {
     "name": "stdout",
     "output_type": "stream",
     "text": [
      "Accuracy: 0.671606864274571\n",
      "Sensitividad: 0.5500910746812386\n",
      "Especificidad: 0.762619372442019\n",
      "F1 Score: 0.5892682926829268\n"
     ]
    }
   ],
   "source": [
    "calcula_metricas(y_test, rfc.predict(X_test))"
   ]
  },
  {
   "cell_type": "code",
   "execution_count": 86,
   "id": "23863ce2-665c-401d-9f39-1f0d808769e1",
   "metadata": {},
   "outputs": [
    {
     "name": "stdout",
     "output_type": "stream",
     "text": [
      "[RFC] Validación cruzada (media): 0.5500\n",
      "[RFC] Resultado en test: 0.5373\n",
      "{'class_weight': 'balanced', 'max_depth': 15, 'min_samples_split': 4, 'n_estimators': 25}\n"
     ]
    }
   ],
   "source": [
    "param_grid = { 'n_estimators': [15,20,25,30],\n",
    "              'max_depth': [13,15,17],\n",
    "              'min_samples_split': [4,5,6],\n",
    "              'class_weight': ['balanced']\n",
    "             }\n",
    "rfc = ajusta(param_grid,RandomForestClassifier(),'RFC',scorer,X_train, y_train,X_test, y_test,scoring,cv = 5)"
   ]
  },
  {
   "cell_type": "code",
   "execution_count": 87,
   "id": "d99d5045-a1ba-4d4f-9b1a-6fa22bb125f9",
   "metadata": {},
   "outputs": [
    {
     "name": "stdout",
     "output_type": "stream",
     "text": [
      "Accuracy: 0.6365054602184087\n",
      "Sensitividad: 0.5373406193078324\n",
      "Especificidad: 0.7107776261937244\n",
      "F1 Score: 0.5587121212121211\n"
     ]
    }
   ],
   "source": [
    "calcula_metricas(y_test, rfc.predict(X_test))"
   ]
  },
  {
   "cell_type": "markdown",
   "id": "08ef9c5b-964f-4ecb-9e5b-a57a58dd00d6",
   "metadata": {},
   "source": [
    "Igualmente, podemos variar el umbral de probabilidad."
   ]
  },
  {
   "cell_type": "code",
   "execution_count": 89,
   "id": "10d68458-fa5e-4cc5-bef4-53006e1dc486",
   "metadata": {},
   "outputs": [
    {
     "name": "stdout",
     "output_type": "stream",
     "text": [
      "Accuracy: 0.6201248049921997\n",
      "Sensitividad: 0.6666666666666666\n",
      "Especificidad: 0.5852660300136425\n",
      "F1 Score: 0.6004922067268252\n"
     ]
    }
   ],
   "source": [
    "y_proba = rfc.predict_proba(X_test)[:, 1] \n",
    "umbral = 0.4 \n",
    "y_pred_adjusted = (y_proba > umbral).astype(int)\n",
    "calcula_metricas(y_test, y_pred_adjusted)"
   ]
  },
  {
   "cell_type": "markdown",
   "id": "557404f8-0145-4d5c-baad-0ec3f42e24fd",
   "metadata": {},
   "source": [
    "#### Predicción mediante XGBoost"
   ]
  },
  {
   "cell_type": "code",
   "execution_count": 91,
   "id": "bd61bd92-966f-4a64-bac9-ed9e095a1217",
   "metadata": {},
   "outputs": [
    {
     "name": "stdout",
     "output_type": "stream",
     "text": [
      "[XGB1] Validación cruzada (media): 0.5500\n",
      "[XGB1] Resultado en test: 0.5647\n",
      "{'learning_rate': 0.1, 'max_depth': 3, 'n_estimators': 30, 'scale_pos_weight': 1.3}\n"
     ]
    }
   ],
   "source": [
    "param_grid = {\n",
    "    'n_estimators': [10,20,30],               \n",
    "    'max_depth': [3, 5, 7, 10],                \n",
    "    'learning_rate': [0.01, 0.1, 0.2],         \n",
    "    'scale_pos_weight': [1.0, 1.3]       \n",
    "}\n",
    "\n",
    "xgb_model1 = ajusta(param_grid,xgb.XGBClassifier(),'XGB1',scorer,X_train, y_train,X_test, y_test,scoring,cv = 5)"
   ]
  },
  {
   "cell_type": "code",
   "execution_count": 92,
   "id": "54dce1ab-c9fd-4170-8d86-f9e34e9a57d5",
   "metadata": {},
   "outputs": [
    {
     "name": "stdout",
     "output_type": "stream",
     "text": [
      "Accuracy: 0.6739469578783152\n",
      "Sensitividad: 0.5646630236794171\n",
      "Especificidad: 0.7557980900409277\n",
      "F1 Score: 0.5973025048169556\n"
     ]
    }
   ],
   "source": [
    "calcula_metricas(y_test, xgb_model1.predict(X_test))"
   ]
  },
  {
   "cell_type": "code",
   "execution_count": 93,
   "id": "86b89bd0-afe2-42bf-83e8-bc1184b7fdc0",
   "metadata": {},
   "outputs": [
    {
     "data": {
      "text/plain": [
       "(30, 3, 0.1, 1.3)"
      ]
     },
     "execution_count": 93,
     "metadata": {},
     "output_type": "execute_result"
    }
   ],
   "source": [
    "xgb_model1.n_estimators,xgb_model1.max_depth,xgb_model1.learning_rate,xgb_model1.scale_pos_weight"
   ]
  },
  {
   "cell_type": "code",
   "execution_count": 94,
   "id": "96e3cbed-d759-4ae6-a775-3d5862c369c8",
   "metadata": {},
   "outputs": [
    {
     "name": "stdout",
     "output_type": "stream",
     "text": [
      "[XGB2] Validación cruzada (media): 0.5796\n",
      "[XGB2] Resultado en test: 0.5883\n",
      "{'learning_rate': 0.12, 'max_depth': 3, 'n_estimators': 35, 'scale_pos_weight': 1.4}\n"
     ]
    }
   ],
   "source": [
    "param_grid = {\n",
    "    'n_estimators': [25,30,35],               \n",
    "    'max_depth': [2,3,4],                \n",
    "    'learning_rate': [0.08,0.1, 0.12],         \n",
    "    'scale_pos_weight': [1.2,1.3,1.4]       \n",
    "}\n",
    "\n",
    "xgb_model2 = ajusta(param_grid,xgb.XGBClassifier(),'XGB2',scorer,X_train, y_train,X_test, y_test,scoring,cv = 5)"
   ]
  },
  {
   "cell_type": "code",
   "execution_count": 95,
   "id": "b6581cd7-f363-4251-8054-6be7247141f5",
   "metadata": {},
   "outputs": [
    {
     "name": "stdout",
     "output_type": "stream",
     "text": [
      "Accuracy: 0.671606864274571\n",
      "Sensitividad: 0.5883424408014571\n",
      "Especificidad: 0.7339699863574352\n",
      "F1 Score: 0.6054358013120898\n"
     ]
    }
   ],
   "source": [
    "calcula_metricas(y_test, xgb_model2.predict(X_test))"
   ]
  },
  {
   "cell_type": "code",
   "execution_count": 96,
   "id": "e8e94996-fddc-4c01-a9d0-cde7f9ee9bd5",
   "metadata": {},
   "outputs": [
    {
     "data": {
      "text/plain": [
       "(35, 3, 0.12, 1.4)"
      ]
     },
     "execution_count": 96,
     "metadata": {},
     "output_type": "execute_result"
    }
   ],
   "source": [
    "xgb_model2.n_estimators,xgb_model2.max_depth,xgb_model2.learning_rate,xgb_model2.scale_pos_weight"
   ]
  },
  {
   "cell_type": "code",
   "execution_count": 97,
   "id": "688572e9-4067-4dca-b663-443790337420",
   "metadata": {},
   "outputs": [
    {
     "name": "stdout",
     "output_type": "stream",
     "text": [
      "[XGB3] Validación cruzada (media): 0.6357\n",
      "[XGB3] Resultado en test: 0.6339\n",
      "{'learning_rate': 0.18, 'max_depth': 3, 'n_estimators': 40, 'scale_pos_weight': 1.6}\n"
     ]
    }
   ],
   "source": [
    "param_grid = {\n",
    "    'n_estimators': [35,40,45],               \n",
    "    'max_depth': [3],                \n",
    "    'learning_rate': [0.12,0.14,0.16,0.18],         \n",
    "    'scale_pos_weight': [1.4,1.5,1.6]        \n",
    "}\n",
    "\n",
    "xgb_model3 = ajusta(param_grid,xgb.XGBClassifier(),'XGB3',scorer,X_train, y_train,X_test, y_test,scoring,cv = 5)"
   ]
  },
  {
   "cell_type": "code",
   "execution_count": 98,
   "id": "8115d693-02d0-4ca9-95fd-fbc030e7371d",
   "metadata": {},
   "outputs": [
    {
     "name": "stdout",
     "output_type": "stream",
     "text": [
      "Accuracy: 0.6630265210608425\n",
      "Sensitividad: 0.6338797814207651\n",
      "Especificidad: 0.684856753069577\n",
      "F1 Score: 0.6170212765957447\n"
     ]
    }
   ],
   "source": [
    "calcula_metricas(y_test, xgb_model3.predict(X_test))"
   ]
  },
  {
   "cell_type": "code",
   "execution_count": 99,
   "id": "3592f88d-d7f9-42fa-a555-3e5115c454ed",
   "metadata": {},
   "outputs": [
    {
     "data": {
      "text/plain": [
       "(40, 3, 0.18, 1.6)"
      ]
     },
     "execution_count": 99,
     "metadata": {},
     "output_type": "execute_result"
    }
   ],
   "source": [
    "xgb_model3.n_estimators,xgb_model3.max_depth,xgb_model3.learning_rate,xgb_model3.scale_pos_weight"
   ]
  },
  {
   "cell_type": "markdown",
   "id": "354b4b3e-6304-4fe3-80b3-97a16b495be7",
   "metadata": {},
   "source": [
    "Realicemos una última búsqueda. Notar que debido a que buscamos la solución con una mejor sensitividad, el modelo va a ser mejor cuanto mayor sea el parámetro `scale_pos_weight`. Para evitar el sesgo del modelo hacia la clase positiva, vamos a tomarlo como $1.6$."
   ]
  },
  {
   "cell_type": "code",
   "execution_count": 103,
   "id": "ec2d1c37-24e8-4f26-beb9-07a943ef34cc",
   "metadata": {},
   "outputs": [
    {
     "name": "stdout",
     "output_type": "stream",
     "text": [
      "[XGB4] Validación cruzada (media): 0.6357\n",
      "[XGB4] Resultado en test: 0.6321\n",
      "{'learning_rate': 0.18, 'max_depth': 3, 'n_estimators': 38, 'scale_pos_weight': 1.6}\n"
     ]
    }
   ],
   "source": [
    "param_grid = {\n",
    "    'n_estimators': [38,39,40,42,43,44],               # número de árboles\n",
    "    'max_depth': [3],                # profundidad máxima del árbol\n",
    "    'learning_rate': [0.17,0.18,0.19,0.2],         # tasa de aprendizaje\n",
    "    'scale_pos_weight': [1.6]        # útil si las clases están desbalanceadas (valor de 1.3 aprox. por tu distribución)\n",
    "}\n",
    "\n",
    "xgb_model4 = ajusta(param_grid,xgb.XGBClassifier(),'XGB4',scorer,X_train, y_train,X_test, y_test,scoring,cv = 5)"
   ]
  },
  {
   "cell_type": "code",
   "execution_count": 104,
   "id": "e89c2678-d350-4670-9b76-d17afbdd76b0",
   "metadata": {},
   "outputs": [
    {
     "name": "stdout",
     "output_type": "stream",
     "text": [
      "Accuracy: 0.6622464898595943\n",
      "Sensitividad: 0.6320582877959927\n",
      "Especificidad: 0.684856753069577\n",
      "F1 Score: 0.6157941437444543\n"
     ]
    }
   ],
   "source": [
    "calcula_metricas(y_test, xgb_model4.predict(X_test))"
   ]
  },
  {
   "cell_type": "code",
   "execution_count": 105,
   "id": "0b6fdc6e-d809-4e01-997a-4ec460c64f11",
   "metadata": {},
   "outputs": [
    {
     "data": {
      "text/plain": [
       "(38, 3, 0.18, 1.6)"
      ]
     },
     "execution_count": 105,
     "metadata": {},
     "output_type": "execute_result"
    }
   ],
   "source": [
    "xgb_model4.n_estimators,xgb_model4.max_depth,xgb_model4.learning_rate,xgb_model4.scale_pos_weight"
   ]
  },
  {
   "cell_type": "code",
   "execution_count": 106,
   "id": "4b2294be-4da3-40f4-80b6-0aab0d8b1f0b",
   "metadata": {},
   "outputs": [
    {
     "data": {
      "text/plain": [
       "{'DTC': 0.5282331511839709,\n",
       " 'RFC': 0.5500910746812386,\n",
       " 'XGB1': 0.5646630236794171,\n",
       " 'XGB2': 0.5883424408014571,\n",
       " 'XGB3': 0.6338797814207651,\n",
       " 'XGB4': 0.6320582877959927}"
      ]
     },
     "execution_count": 106,
     "metadata": {},
     "output_type": "execute_result"
    }
   ],
   "source": [
    "scoring"
   ]
  },
  {
   "cell_type": "markdown",
   "id": "a31f1e90-8176-4814-810c-07d0614613e2",
   "metadata": {},
   "source": [
    "#### Elección del modelo final y comentarios"
   ]
  },
  {
   "cell_type": "markdown",
   "id": "08dbd08e-2905-4c64-9baf-3bac815fe3af",
   "metadata": {},
   "source": [
    "Según nuestros propósitos, el mejor modelo obtenido es el `XGB3`. Recordemos las métricas obtenidas y veamos cómo varían según el umbral de probabilidad."
   ]
  },
  {
   "cell_type": "code",
   "execution_count": 109,
   "id": "72f5c8b4-b087-42e3-945f-f6f4eb5f58c9",
   "metadata": {},
   "outputs": [
    {
     "name": "stdout",
     "output_type": "stream",
     "text": [
      "Accuracy: 0.6630265210608425\n",
      "Sensitividad: 0.6338797814207651\n",
      "Especificidad: 0.684856753069577\n",
      "F1 Score: 0.6170212765957447\n"
     ]
    }
   ],
   "source": [
    "calcula_metricas(y_test,xgb_model3.predict(X_test))"
   ]
  },
  {
   "cell_type": "code",
   "execution_count": 110,
   "id": "348a087b-4b75-4b88-8759-4c6f8238c9f8",
   "metadata": {},
   "outputs": [
    {
     "name": "stdout",
     "output_type": "stream",
     "text": [
      "Umbral:  0.45\n",
      "Accuracy: 0.6333853354134166\n",
      "Sensitividad: 0.7194899817850637\n",
      "Especificidad: 0.5688949522510232\n",
      "F1 Score: 0.626984126984127\n",
      "\n",
      "Umbral:  0.46\n",
      "Accuracy: 0.6326053042121685\n",
      "Sensitividad: 0.7085610200364298\n",
      "Especificidad: 0.5757162346521146\n",
      "F1 Score: 0.622898318654924\n",
      "\n",
      "Umbral:  0.47\n",
      "Accuracy: 0.640405616224649\n",
      "Sensitividad: 0.692167577413479\n",
      "Especificidad: 0.6016371077762619\n",
      "F1 Score: 0.6224406224406224\n",
      "\n",
      "Umbral:  0.48\n",
      "Accuracy: 0.6505460218408736\n",
      "Sensitividad: 0.6794171220400729\n",
      "Especificidad: 0.6289222373806276\n",
      "F1 Score: 0.6247906197654941\n",
      "\n"
     ]
    }
   ],
   "source": [
    "for umbral in [0.45,0.46,0.47,0.48]:\n",
    "    print(\"Umbral: \", umbral)\n",
    "    y_proba = xgb_model3.predict_proba(X_test)[:, 1] \n",
    "    y_pred_adjusted = (y_proba > umbral).astype(int)\n",
    "    calcula_metricas(y_test, y_pred_adjusted)\n",
    "    print(\"\")"
   ]
  },
  {
   "cell_type": "markdown",
   "id": "5a23640d-3d2b-4c3f-82d5-9a52d6931b9a",
   "metadata": {},
   "source": [
    "Según nuestras necesidades podríamos ir variando este umbral, sacrificando el accuracy por una mejor sensitividad.\n",
    "\n",
    "En definitiva, obtenemos un modelo mejorable, pero bastante aceptable teniendo en cuenta que hemos partido de una simple información: las colaboraciones entre los artistas. Es por ello que es un modelo algo limitado que, con el uso de otras variables predictoras correspondientes a las carácterísticas de los artistas podría mejorar el desempeño, pero no era este el objetivo del proyecto."
   ]
  }
 ],
 "metadata": {
  "kernelspec": {
   "display_name": "Python [conda env:base] *",
   "language": "python",
   "name": "conda-base-py"
  },
  "language_info": {
   "codemirror_mode": {
    "name": "ipython",
    "version": 3
   },
   "file_extension": ".py",
   "mimetype": "text/x-python",
   "name": "python",
   "nbconvert_exporter": "python",
   "pygments_lexer": "ipython3",
   "version": "3.12.3"
  }
 },
 "nbformat": 4,
 "nbformat_minor": 5
}
